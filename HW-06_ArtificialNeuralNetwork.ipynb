{
 "cells": [
  {
   "cell_type": "markdown",
   "metadata": {},
   "source": [
    "## <p style=\"text-align: right;\"> &#9989; Kayla Norris </p>"
   ]
  },
  {
   "cell_type": "markdown",
   "metadata": {},
   "source": [
    "**You are encouraged to read though the entire assignment before starting!**\n",
    "\n",
    "# Homework 6 - Machine Learning with ANNs\n",
    "\n",
    "<img src=https://cdn-images-1.medium.com/max/672/1*HkMjxhe1VV9ldn9l2UaDHg.jpeg width=500px>\n",
    "\n",
    "In this homework we are going to build an Artificial Neural Network to predict some scientific data.\n",
    "\n",
    "### Goals for this assignment:\n",
    "\n",
    "By the end of this assignment, you should be able to:\n",
    "\n",
    "* Download data for training and testing a neural network\n",
    "* Use a pre-existing neural network package to extract information from pre-existing data\n",
    "* Visualize the results of your neural network model\n",
    "\n",
    "### Assignment instructions\n",
    "\n",
    "**This assignment is due at 11:59pm on Sunday, April 15th.** This is an individual assignment, but you should feel free to discuss issues you run into in the CMSE 202 \"help\" channel on Slack. When you're done, it should be uploaded into the \"Homework Assignments\" dropbox folder for Homework #6. Further submission instructions can be found at the end of the notebook.\n",
    "\n",
    "### Grading\n",
    "\n",
    "1. (2 points) Use git to manage your project.\n",
    "1. (2 points) Select a dataset to train and scientific question.\n",
    "1. (4 points) Choose a Neural Network library to use.\n",
    "1. (8 points) Write a function (or class) to download Data.\n",
    "1. (8 points) Write a function (or class) to visualize the Neural Network.\n",
    "1. (8 points) Write a function (or class) to visualize the learning rate of your network.\n",
    "1. (4 points) Train and test the network on your dataset.\n",
    "\n",
    "Total points: **36**\n",
    "\n",
    "**Note:** More points will be given based on how well you think out this project and try to build the various functions than actual final results. This is because this homework might prove to be challenging and I care more about your thinking process and code design rather than your final results."
   ]
  },
  {
   "cell_type": "markdown",
   "metadata": {},
   "source": [
    "----\n",
    "# (2 points) Use git to manage your assignment\n",
    "\n",
    "* Create a **private** repository on GitHub and include your professor and TA as collaborators.\n",
    "* Make sure you include a copy of this notebook in the top directory of your repository folder.\n",
    "* Feel free to include any other code you use for your assignment\n",
    "* Make periodic commits to keep track of your progress\n",
    "* **Make sure all code/instructions are included to run your project!!!**\n",
    "    "
   ]
  },
  {
   "cell_type": "markdown",
   "metadata": {},
   "source": [
    "**Question 1**: What is the command the instructors should use to download your assignment?"
   ]
  },
  {
   "cell_type": "markdown",
   "metadata": {},
   "source": [
    "<font size=8 color=\"#009600\">&#9998;</font> "
   ]
  },
  {
   "cell_type": "markdown",
   "metadata": {},
   "source": [
    "----\n",
    "# (2 points) Select a dataset to train and scientific question.\n",
    "\n",
    "Select a dataset and scientific question to ask and answer using a Neural Network (NN).  This question is intended to be open ended and truly demonstrate what you have learned this semester, similar to the last assignment where you had to just figure out how to get sklearn to classify some data.  However, I also do not want you to make this harder than it should be.\n",
    "\n",
    "I highly suggest looking though the following datasets (ex. the Breast Cancer one looks fairly good):\n",
    "\n",
    "https://archive.ics.uci.edu/ml/datasets.html?format=&task=reg&att=&area=&numAtt=&numIns=&type=&sort=nameUp&view=table\n",
    "\n",
    "Some other datasets that are reasonable include the ones that come with scikit learn. \n",
    "\n",
    "http://scikit-learn.org/stable/modules/classes.html#module-sklearn.datasets\n",
    "\n",
    "Don't get too fancy.  My suggestion is that you have a plan with two goals.  The first is something you know you can get working and the second is something you would like to get working.  Some points will be given based on how well you scope your project. Ideally, it should not take you more than ~6 hours spread out over the next couple of weeks to complete this assignment."
   ]
  },
  {
   "cell_type": "markdown",
   "metadata": {},
   "source": [
    "**Question 1**: What dataset did you choose for this project? Provide links and references."
   ]
  },
  {
   "cell_type": "markdown",
   "metadata": {},
   "source": [
    "<font size=8 color=\"#009600\">&#9998;</font> Do This - Erase the contents of this cell and replace it with your answer to the above question!  (double-click on this text to edit this cell, and hit shift+enter to save the text)"
   ]
  },
  {
   "cell_type": "markdown",
   "metadata": {},
   "source": [
    "**Question 2**: What \"easy\" scientific question would you like to ask of this data using your Neural Network?\n"
   ]
  },
  {
   "cell_type": "markdown",
   "metadata": {},
   "source": [
    "<font size=8 color=\"#009600\">&#9998;</font> Do This - Erase the contents of this cell and replace it with your answer to the above question!  (double-click on this text to edit this cell, and hit shift+enter to save the text)"
   ]
  },
  {
   "cell_type": "markdown",
   "metadata": {},
   "source": [
    "**Question 3**: What more advanced scientific question would you like to ask of this data using your Neural Network? (Ex. Can we build a neural network that accurately predicts cancer classification given the physical measurements (Clump Thickness, Uniformity of Cell Size, Uniformity of Cell Shape, etc). \n"
   ]
  },
  {
   "cell_type": "markdown",
   "metadata": {},
   "source": [
    "<font size=8 color=\"#009600\">&#9998;</font> Do This - Erase the contents of this cell and replace it with your answer to the above question!  (double-click on this text to edit this cell, and hit shift+enter to save the text)"
   ]
  },
  {
   "cell_type": "markdown",
   "metadata": {},
   "source": [
    "----\n",
    "# (4 points) Choose a Neural Network library to use."
   ]
  },
  {
   "cell_type": "markdown",
   "metadata": {},
   "source": [
    "Decide which neural network library you want to use.  I will leave this open because I want you to make an informed decision. However, please consider some of the following selection criteria:\n",
    "\n",
    "1. Your own familiarity with the library\n",
    "1. The difficulty/ease for installing the library.\n",
    "1. The availability of examples you can use to test the library.\n",
    "1. The size of the on-line support community for the library. \n",
    "\n",
    "Some examples include: (Neural Networks Demystified, PyBrain, scikit learn, Keras, etc.)"
   ]
  },
  {
   "cell_type": "markdown",
   "metadata": {},
   "source": [
    "**Question 4**: Write a list of at least three NN libraries you considered for this homework. "
   ]
  },
  {
   "cell_type": "markdown",
   "metadata": {},
   "source": [
    "<font size=8 color=\"#009600\">&#9998;</font> Do This - Erase the contents of this cell and replace it with your answer to the above question!  (double-click on this text to edit this cell, and hit shift+enter to save the text)"
   ]
  },
  {
   "cell_type": "markdown",
   "metadata": {},
   "source": [
    "**Question 5**: What selection criteria did you use in picking your NN libraries?"
   ]
  },
  {
   "cell_type": "markdown",
   "metadata": {},
   "source": [
    "<font size=8 color=\"#009600\">&#9998;</font> Do This - Erase the contents of this cell and replace it with your answer to the above question!  (double-click on this text to edit this cell, and hit shift+enter to save the text)"
   ]
  },
  {
   "cell_type": "markdown",
   "metadata": {},
   "source": [
    "**Question 6**: Which library did you end up using and why?"
   ]
  },
  {
   "cell_type": "markdown",
   "metadata": {},
   "source": [
    "<font size=8 color=\"#009600\">&#9998;</font> Do This - Erase the contents of this cell and replace it with your answer to the above question!  (double-click on this text to edit this cell, and hit shift+enter to save the text)"
   ]
  },
  {
   "cell_type": "markdown",
   "metadata": {},
   "source": [
    "**Question 7**: If appropriate, include all of the code needed to download, install and import your library."
   ]
  },
  {
   "cell_type": "code",
   "execution_count": null,
   "metadata": {
    "collapsed": true
   },
   "outputs": [],
   "source": [
    "## Put your code to download, install and load your neural network here\n"
   ]
  },
  {
   "cell_type": "markdown",
   "metadata": {},
   "source": [
    "----\n",
    "# (8 points) Write a function (or class) to download your data.\n",
    "\n",
    "Write a function or class to download your data and then put it into a format usable by the Neural Network.  Make sure to document this function/class as appropriate. You might have to do a bit of internet searching to figure out how to download a file with Python."
   ]
  },
  {
   "cell_type": "code",
   "execution_count": null,
   "metadata": {
    "collapsed": true
   },
   "outputs": [],
   "source": [
    "## Put code here to download your data\n"
   ]
  },
  {
   "cell_type": "markdown",
   "metadata": {},
   "source": [
    "----\n",
    "# (8 points) Write a function (or class) to visualize the Neural Network.\n",
    "\n",
    "Create a network map to visualize your data. This should minimally include each of the neurons (as circles) and the connections between neurons as lines. You should try to also find a way to represent the weights of the connections (ex. line thickness, color, labels with numbers, etc.)\n",
    "\n",
    "A good implementation will take the basic Neural Network object from your chosen library and generate the graph.  A poor implementation will require that you convert the neural network to a intermediate object before implementation. \n",
    "\n",
    "Again, you might want to search the internet for a method of visualizing neural networks in Python."
   ]
  },
  {
   "cell_type": "code",
   "execution_count": null,
   "metadata": {
    "collapsed": true
   },
   "outputs": [],
   "source": [
    "## Put code here visualize your neural network\n"
   ]
  },
  {
   "cell_type": "markdown",
   "metadata": {},
   "source": [
    "----\n",
    "# (8 points) Write a function (or class) to visualize the learning rate of your network.\n",
    "\n",
    "Write a function or class to show the progress of the network learning.  Probably the best way to do this is to use ```iteration``` on the x-axis and ```Mean Squared Error``` on the y-axis.  "
   ]
  },
  {
   "cell_type": "code",
   "execution_count": null,
   "metadata": {
    "collapsed": true
   },
   "outputs": [],
   "source": [
    "## Put code here to visualize your learning rate\n"
   ]
  },
  {
   "cell_type": "markdown",
   "metadata": {},
   "source": [
    "----\n",
    "# (4 points) Train and test your code on your dataset.\n",
    "\n",
    "Put it all together here.  Write a program that uses your above modules to download; train your network; show the learning progress and the final network diagram.  "
   ]
  },
  {
   "cell_type": "code",
   "execution_count": null,
   "metadata": {
    "collapsed": true
   },
   "outputs": [],
   "source": [
    "## Put your integrated code here\n"
   ]
  },
  {
   "cell_type": "markdown",
   "metadata": {},
   "source": [
    "**Question 7**: To the best of your abilities, given the results of the above, write conclusion to your scientific questions.  What did you learn?"
   ]
  },
  {
   "cell_type": "markdown",
   "metadata": {},
   "source": [
    "<font size=8 color=\"#009600\">&#9998;</font> Do This - Erase the contents of this cell and replace it with your answer to the above question!  (double-click on this text to edit this cell, and hit shift+enter to save the text)"
   ]
  },
  {
   "cell_type": "markdown",
   "metadata": {},
   "source": [
    "---\n",
    "## Assignment wrap-up\n",
    "\n",
    "Please fill out the form that appears when you run the code below.  **You must completely fill this out in order to receive credit for the assignment!**"
   ]
  },
  {
   "cell_type": "code",
   "execution_count": null,
   "metadata": {
    "collapsed": true
   },
   "outputs": [],
   "source": [
    "from IPython.display import HTML\n",
    "HTML(\n",
    "\"\"\"\n",
    "<iframe \n",
    "\tsrc=\"https://goo.gl/forms/Y2112O1emrVdjZ9u2\" \n",
    "\twidth=\"80%\" \n",
    "\theight=\"800px\" \n",
    "\tframeborder=\"0\" \n",
    "\tmarginheight=\"0\" \n",
    "\tmarginwidth=\"0\">\n",
    "\tLoading...\n",
    "</iframe>\n",
    "\"\"\"\n",
    ")"
   ]
  },
  {
   "cell_type": "markdown",
   "metadata": {},
   "source": [
    "----\n",
    "# Congrats, you're done!\n",
    "### Turning in your homework\n",
    "\n",
    "Now, you need to submit this assignment by uploading this jupyter notebook file to the course Desire2Learn web page for Homework #6. Instructors will use this file to motivate downloading of your git repository and grading of your homework. This means we will have two identical copies of this notebook (one in D2L and one in your git repository).   \n",
    "\n",
    "Don't forget to add your name in the first cell!"
   ]
  }
 ],
 "metadata": {
  "kernelspec": {
   "display_name": "Python 3",
   "language": "python",
   "name": "python3"
  },
  "language_info": {
   "codemirror_mode": {
    "name": "ipython",
    "version": 3
   },
   "file_extension": ".py",
   "mimetype": "text/x-python",
   "name": "python",
   "nbconvert_exporter": "python",
   "pygments_lexer": "ipython3",
   "version": "3.6.3"
  }
 },
 "nbformat": 4,
 "nbformat_minor": 2
}
